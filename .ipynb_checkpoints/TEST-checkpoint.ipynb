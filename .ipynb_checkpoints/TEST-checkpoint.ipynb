{
 "cells": [
  {
   "cell_type": "code",
   "execution_count": 1,
   "id": "cb4b384f-d8c1-4a7f-8560-5f3a99f8a60e",
   "metadata": {},
   "outputs": [
    {
     "name": "stderr",
     "output_type": "stream",
     "text": [
      "/usr/lib/python3.13/site-packages/tqdm/auto.py:21: TqdmWarning: IProgress not found. Please update jupyter and ipywidgets. See https://ipywidgets.readthedocs.io/en/stable/user_install.html\n",
      "  from .autonotebook import tqdm as notebook_tqdm\n"
     ]
    }
   ],
   "source": [
    "from datasets import load_dataset\n",
    "from gensim.utils import tokenize\n",
    "from tqdm import tqdm\n",
    "from textblob import TextBlob\n",
    "from collections import Counter\n",
    "import torch\n",
    "from torch.utils.data import DataLoader\n",
    "from torch.utils.data import Dataset\n",
    "data=load_dataset('imdb')\n",
    "device='cpu'"
   ]
  },
  {
   "cell_type": "code",
   "execution_count": 2,
   "id": "46a17466-6e1d-4801-a521-4d4bcf73d7e9",
   "metadata": {},
   "outputs": [
    {
     "name": "stderr",
     "output_type": "stream",
     "text": [
      "100%|█████████████████████████████████████████████████████████████████████████████████████████████████████████████████████████████████████████████████████████████████████████| 25000/25000 [00:23<00:00, 1083.13it/s]\n"
     ]
    }
   ],
   "source": [
    "all_sentences=[]\n",
    "sent_threshold=32\n",
    "\n",
    "for text_block in tqdm(data['train']['text']):\n",
    "    for sentences in TextBlob(text_block).sentences:\n",
    "        len_of_sent=sentences.words \n",
    "        for sent in sentences.split('.<br /><br />'):\n",
    "            if len(len_of_sent)<sent_threshold:\n",
    "                all_sentences.append(sent)\n",
    "    \n",
    "    \n"
   ]
  },
  {
   "cell_type": "code",
   "execution_count": 3,
   "id": "161c85e5-4ba3-4474-b0c6-e2ff368bd35a",
   "metadata": {},
   "outputs": [
    {
     "name": "stderr",
     "output_type": "stream",
     "text": [
      "100%|█████████████████████████████████████████████████████████████████████████████████████████████████████████████████████████████████████████████████████████████████████| 227434/227434 [00:01<00:00, 132638.11it/s]\n"
     ]
    }
   ],
   "source": [
    "words=[]\n",
    "for sent in tqdm(all_sentences):\n",
    "    for word in tokenize(sent):\n",
    "        words.append(word.lower())"
   ]
  },
  {
   "cell_type": "code",
   "execution_count": 4,
   "id": "153a013e-f901-4805-9a6d-dd8e74dcd14a",
   "metadata": {},
   "outputs": [],
   "source": [
    "cntr=Counter(words)"
   ]
  },
  {
   "cell_type": "code",
   "execution_count": 5,
   "id": "eb0b2108-594f-4c1c-be86-c22363276fa1",
   "metadata": {},
   "outputs": [],
   "source": [
    "vocab_size=40000\n",
    "our_words=set(['<unk>','<bos>','<eos>','<pad>'])\n",
    "for word,cnt in cntr.most_common()[0:vocab_size]:\n",
    "    our_words.add(word)"
   ]
  },
  {
   "cell_type": "code",
   "execution_count": 6,
   "id": "455d81c4-3a06-4cd2-a3d0-63dbdb660c05",
   "metadata": {},
   "outputs": [
    {
     "data": {
      "text/plain": [
       "40004"
      ]
     },
     "execution_count": 6,
     "metadata": {},
     "output_type": "execute_result"
    }
   ],
   "source": [
    "len(our_words)"
   ]
  },
  {
   "cell_type": "code",
   "execution_count": 7,
   "id": "66f4460d-4d65-4269-9b9a-ede65b5e0e56",
   "metadata": {},
   "outputs": [
    {
     "name": "stdout",
     "output_type": "stream",
     "text": [
      "I\n",
      "Am\n",
      "Curious\n",
      "Yellow\n",
      "is\n",
      "a\n",
      "risible\n",
      "and\n",
      "pretentious\n",
      "steaming\n",
      "pile\n"
     ]
    }
   ],
   "source": [
    "for i in tokenize(all_sentences[5]):\n",
    "    print(i)"
   ]
  },
  {
   "cell_type": "code",
   "execution_count": 8,
   "id": "1ba803f6-e3d5-466a-a755-9b9bba2bb0c9",
   "metadata": {},
   "outputs": [],
   "source": [
    "word2int={word:cnt for cnt,word in enumerate(our_words)}\n",
    "int2word={cnt:word for cnt,word in enumerate(our_words)}"
   ]
  },
  {
   "cell_type": "code",
   "execution_count": 30,
   "id": "50f8c7bf-6735-41eb-8264-e6f0cc1ef9bd",
   "metadata": {},
   "outputs": [],
   "source": [
    "class word_dataset(Dataset):\n",
    "    def __init__(self,data):\n",
    "        super(word_dataset,self).__init__()\n",
    "        self.data=data\n",
    "\n",
    "    def __len__(self):\n",
    "        return len(self.data)\n",
    "\n",
    "    def __getitem__(self,idx):\n",
    "        selected_sent=self.data[idx]\n",
    "        indexed_text=[word2int['<bos>']]\n",
    "        main_text=[word2int[word] if word in word2int else word2int['<unk>'] for word in tokenize(selected_sent.lower())]\n",
    "        indexed_text=indexed_text+main_text+[word2int['<eos>']]\n",
    "        return indexed_text\n",
    "        \n",
    "        \n",
    "        "
   ]
  },
  {
   "cell_type": "code",
   "execution_count": 27,
   "id": "5d264972-1229-42f5-9c59-c9b0f1ad0e8e",
   "metadata": {},
   "outputs": [],
   "source": [
    "def make_batch(batch):\n",
    "    lenghts=(len(x) for x in batch)\n",
    "    max_len=max(lenghts)\n",
    "\n",
    "    new_batch=[]\n",
    "    for sent in batch:\n",
    "        for pad in range(max_len-len(sent)):\n",
    "            sent.append(word2int['<pad>'])\n",
    "        new_batch.append(sent)\n",
    "\n",
    "    new_batch=torch.LongTensor(new_batch).to(device)\n",
    "\n",
    "    \n",
    "\n",
    "    return {\n",
    "        'inp':new_batch[:,:-1],\n",
    "        'label':new_batch[:,1:]\n",
    "    }\n",
    "    "
   ]
  },
  {
   "cell_type": "code",
   "execution_count": 29,
   "id": "afe11823-45b8-4842-b796-85419a4f09cc",
   "metadata": {},
   "outputs": [],
   "source": [
    "train_data=word_dataset(all_sentences)\n",
    "train_dataloader=DataLoader(train_data,batch_size=32,shuffle=True,collate_fn=make_batch)"
   ]
  },
  {
   "cell_type": "code",
   "execution_count": null,
   "id": "b2a334b2-4ad1-40d8-a2cb-5de1e151d6b1",
   "metadata": {},
   "outputs": [],
   "source": []
  }
 ],
 "metadata": {
  "kernelspec": {
   "display_name": "Python 3 (ipykernel)",
   "language": "python",
   "name": "python3"
  },
  "language_info": {
   "codemirror_mode": {
    "name": "ipython",
    "version": 3
   },
   "file_extension": ".py",
   "mimetype": "text/x-python",
   "name": "python",
   "nbconvert_exporter": "python",
   "pygments_lexer": "ipython3",
   "version": "3.13.2"
  }
 },
 "nbformat": 4,
 "nbformat_minor": 5
}
